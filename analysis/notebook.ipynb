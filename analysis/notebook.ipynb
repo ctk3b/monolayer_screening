{
 "cells": [
  {
   "cell_type": "code",
   "execution_count": null,
   "metadata": {
    "collapsed": false
   },
   "outputs": [],
   "source": [
    "import signac\n",
    "import flow\n",
    "import numpy as np\n",
    "\n",
    "from my_project import get_project\n",
    "\n",
    "print(signac.__version__)\n",
    "print(flow.__version__)"
   ]
  },
  {
   "cell_type": "markdown",
   "metadata": {},
   "source": [
    "Make sure to run `init.py` at least once to initialize the project!\n",
    "\n",
    "Then, we get obtain a project handle."
   ]
  },
  {
   "cell_type": "code",
   "execution_count": null,
   "metadata": {
    "collapsed": false
   },
   "outputs": [],
   "source": [
    "project = get_project()\n",
    "print(project)"
   ]
  },
  {
   "cell_type": "markdown",
   "metadata": {},
   "source": [
    "Just like on the command line, we can display the project's status:"
   ]
  },
  {
   "cell_type": "code",
   "execution_count": null,
   "metadata": {
    "collapsed": false,
    "scrolled": true
   },
   "outputs": [],
   "source": [
    "project.print_status(detailed=True, parameters=['p'])"
   ]
  },
  {
   "cell_type": "markdown",
   "metadata": {},
   "source": [
    "We want to compare the volume estimate using the ideal gas law and the measurements from the molecular dynamics simulation.\n",
    "\n",
    "We implement the `get_volume()` function to extract the volume from the log file."
   ]
  },
  {
   "cell_type": "code",
   "execution_count": null,
   "metadata": {
    "collapsed": false
   },
   "outputs": [],
   "source": [
    "def get_volume(job):\n",
    "    try:\n",
    "        log = np.genfromtxt(job.fn('dump.log'), names=True)\n",
    "        N = len(log)\n",
    "        return log[int(0.5 * N):]['volume'].mean(axis=0)\n",
    "    except OSError:\n",
    "        pass\n",
    "\n",
    "for job in project.find_jobs():\n",
    "    print(job.statepoint()['p'], get_volume(job))"
   ]
  },
  {
   "cell_type": "markdown",
   "metadata": {},
   "source": [
    "For a better presentation of the results we need to aggregate all results and sort them by pressure.\n",
    "\n",
    "*The following code requires matplotlib.*"
   ]
  },
  {
   "cell_type": "code",
   "execution_count": null,
   "metadata": {
    "collapsed": false,
    "scrolled": true
   },
   "outputs": [],
   "source": [
    "# Display plots within the notebook\n",
    "from matplotlib import pyplot as plt\n",
    "%matplotlib inline\n",
    "\n",
    "V = dict()\n",
    "V_idg = dict()\n",
    "\n",
    "for job in project.find_jobs():\n",
    "    V[job.statepoint()['p']] = get_volume(job)\n",
    "    V_idg[job.statepoint()['p']] = job.document['volume_estimate']\n",
    "    \n",
    "p = sorted(V.keys())\n",
    "V = [V[p_] for p_ in p]\n",
    "V_idg = [V_idg[p_] for p_ in p]\n",
    "\n",
    "plt.plot(p, V, label='LJ')\n",
    "plt.plot(p, V_idg, label='idG')\n",
    "plt.xlabel(r'pressure [$\\epsilon / \\sigma^3$]')\n",
    "plt.ylabel(r'volume [$\\sigma^3$]')\n",
    "plt.legend()"
   ]
  },
  {
   "cell_type": "code",
   "execution_count": null,
   "metadata": {
    "collapsed": true
   },
   "outputs": [],
   "source": []
  }
 ],
 "metadata": {
  "anaconda-cloud": {},
  "kernelspec": {
   "display_name": "Python [default]",
   "language": "python",
   "name": "python3"
  },
  "language_info": {
   "codemirror_mode": {
    "name": "ipython",
    "version": 3
   },
   "file_extension": ".py",
   "mimetype": "text/x-python",
   "name": "python",
   "nbconvert_exporter": "python",
   "pygments_lexer": "ipython3",
   "version": "3.5.2"
  }
 },
 "nbformat": 4,
 "nbformat_minor": 0
}
